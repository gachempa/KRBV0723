{
 "cells": [
  {
   "cell_type": "markdown",
   "metadata": {},
   "source": [
    "This following A Karpathy's \"The spelled-out intro to neural networks and backpropagation: building micrograd\" from YouTube: https://www.youtube.com/watch?v=VMj-3S1tku0"
   ]
  },
  {
   "cell_type": "code",
   "execution_count": 1,
   "metadata": {},
   "outputs": [],
   "source": [
    "import math\n",
    "import numpy as np\n",
    "import matplotlib.pyplot as plt\n",
    "%matplotlib inline"
   ]
  },
  {
   "cell_type": "code",
   "execution_count": 2,
   "metadata": {},
   "outputs": [
    {
     "name": "stdout",
     "output_type": "stream",
     "text": [
      "d1 4.0\n",
      "d2 4.0001\n",
      "slope 0.9999999999976694\n"
     ]
    }
   ],
   "source": [
    "h=0.0001\n",
    "\n",
    "a=2.0\n",
    "b=-3.0\n",
    "c=10.0\n",
    "\n",
    "d1=a*b+c\n",
    "c+=h\n",
    "d2=a*b+c\n",
    "\n",
    "print('d1',d1)\n",
    "print('d2',d2)\n",
    "print('slope',(d2-d1)/h)"
   ]
  },
  {
   "cell_type": "code",
   "execution_count": 3,
   "metadata": {},
   "outputs": [
    {
     "data": {
      "text/plain": [
       "Value(data=4.0)"
      ]
     },
     "execution_count": 3,
     "metadata": {},
     "output_type": "execute_result"
    }
   ],
   "source": [
    "class Value:\n",
    "    def __init__(self,data) -> None:\n",
    "        self.data=data\n",
    "\n",
    "    def __repr__(self) -> str:\n",
    "        return f\"Value(data={self.data})\"\n",
    "    \n",
    "    def __add__(self, other):\n",
    "        out=Value(self.data+other.data)\n",
    "        return out\n",
    "    \n",
    "    def __mul__(self,other):\n",
    "        out=Value(self.data*other.data)\n",
    "        return out\n",
    "    \n",
    "a=Value(2.0)\n",
    "b=Value(-3.0)\n",
    "c=Value(10.0)\n",
    "d=a*b+c\n",
    "d\n"
   ]
  },
  {
   "cell_type": "code",
   "execution_count": 4,
   "metadata": {},
   "outputs": [
    {
     "ename": "SyntaxError",
     "evalue": "invalid syntax (755517102.py, line 22)",
     "output_type": "error",
     "traceback": [
      "\u001b[0;36m  Cell \u001b[0;32mIn[4], line 22\u001b[0;36m\u001b[0m\n\u001b[0;31m    if n._op:|\u001b[0m\n\u001b[0m             ^\u001b[0m\n\u001b[0;31mSyntaxError\u001b[0m\u001b[0;31m:\u001b[0m invalid syntax\n"
     ]
    }
   ],
   "source": [
    "from graphviz import Digraph\n",
    "\n",
    "def trace(root):\n",
    "    nodes, edges=set(),set()\n",
    "    def build(v):\n",
    "        if v not in nodes:\n",
    "            nodes.add(v)\n",
    "            for child in v._prev:\n",
    "                edges.add(child,v)\n",
    "                build(child)\n",
    "    build(root)\n",
    "    return nodes,edges\n",
    "\n",
    "def draw_dot(root):\n",
    "    dot=Digraph(format='svg',graph_attr={'rankdir': 'LR'}) #LR = left to Right\n",
    "\n",
    "    nodes,edges=trace(root)\n",
    "    for n in nodes:\n",
    "        uid=str(id(n))\n",
    "        # create a rectangular 'record' node\n",
    "        dot.node(name=uid,label=\"{%s | data %.4f}\" % (n.label,n.data),shape='record')\n",
    "        if n._op:|"
   ]
  },
  {
   "cell_type": "code",
   "execution_count": null,
   "metadata": {},
   "outputs": [],
   "source": []
  }
 ],
 "metadata": {
  "kernelspec": {
   "display_name": "Python 3",
   "language": "python",
   "name": "python3"
  },
  "language_info": {
   "codemirror_mode": {
    "name": "ipython",
    "version": 3
   },
   "file_extension": ".py",
   "mimetype": "text/x-python",
   "name": "python",
   "nbconvert_exporter": "python",
   "pygments_lexer": "ipython3",
   "version": "3.9.6"
  }
 },
 "nbformat": 4,
 "nbformat_minor": 2
}
